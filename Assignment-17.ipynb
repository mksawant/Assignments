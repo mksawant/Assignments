{
 "cells": [
  {
   "cell_type": "code",
   "execution_count": 1,
   "id": "254adafc",
   "metadata": {},
   "outputs": [
    {
     "name": "stdout",
     "output_type": "stream",
     "text": [
      "Enter any positive value : 7\n",
      "just right\n"
     ]
    }
   ],
   "source": [
    "# Q.1 Assign the value 7 to the variable guess_me. Then, write the conditional tests (if, else, and elif) to\n",
    "# print the string ‘too low’ if guess_me is less than 7, ‘too high’ if greater than 7, and ‘just right’ if equal\n",
    "# to 7.\n",
    "guess_me = int(input('Enter any positive value : '))\n",
    "if guess_me < 7:\n",
    "    print('too low')\n",
    "elif guess_me > 7:\n",
    "    print('too high')\n",
    "else :\n",
    "    print('just right')"
   ]
  },
  {
   "cell_type": "code",
   "execution_count": 2,
   "id": "6245d686",
   "metadata": {},
   "outputs": [
    {
     "name": "stdout",
     "output_type": "stream",
     "text": [
      "too low\n"
     ]
    }
   ],
   "source": [
    "# Q.2 Assign the value 7 to the variable guess_me and the value 1 to the variable start. \n",
    "# Write a while loop that compares start with guess_me. Print 'too low' if start is less than guess me. If start equals\n",
    "# guess_me, print ‘found it!’ and exit the loop. If start is greater than guess_me, print ‘oops’ and exit\n",
    "# the loop. Increment start at the end of the loop.\n",
    "\n",
    "guess_me = 7\n",
    "start = 1\n",
    "\n",
    "while True:\n",
    "    if start < guess_me:\n",
    "        print('too low')\n",
    "        break\n",
    "    elif start == guess_me:\n",
    "        print('found it !')\n",
    "        break\n",
    "    elif start > guess_me:\n",
    "        print('oops')\n",
    "        break\n",
    "    start += 1"
   ]
  },
  {
   "cell_type": "code",
   "execution_count": 3,
   "id": "94e9b8e5",
   "metadata": {},
   "outputs": [
    {
     "name": "stdout",
     "output_type": "stream",
     "text": [
      "3\n",
      "2\n",
      "1\n",
      "0\n"
     ]
    }
   ],
   "source": [
    "# Q.3 Print the following values of the list [3, 2, 1, 0] using a for loop.\n",
    "L = [3,2,1,0]\n",
    "for i in L:\n",
    "    print(i)"
   ]
  },
  {
   "cell_type": "code",
   "execution_count": 4,
   "id": "cf5374bb",
   "metadata": {},
   "outputs": [
    {
     "name": "stdout",
     "output_type": "stream",
     "text": [
      "[0, 2, 4, 6, 8, 10]\n"
     ]
    }
   ],
   "source": [
    "# Q.4 Use a list comprehension to make a list of the even numbers in range(10)\n",
    "\n",
    "a = list(range(0,11))\n",
    "\n",
    "even_numbers = [x for x in a if x%2 == 0]\n",
    "print(even_numbers)"
   ]
  },
  {
   "cell_type": "code",
   "execution_count": 5,
   "id": "a60a45ca",
   "metadata": {},
   "outputs": [
    {
     "data": {
      "text/plain": [
       "{0: 0, 1: 1, 2: 4, 3: 9, 4: 16, 5: 25, 6: 36, 7: 49, 8: 64, 9: 81}"
      ]
     },
     "execution_count": 5,
     "metadata": {},
     "output_type": "execute_result"
    }
   ],
   "source": [
    "# Q.5 Use a dictionary comprehension to create the dictionary squares. Use range(10) to return the\n",
    "# keys, and use the square of each key as its value.\n",
    "\n",
    "d = {i:i**2 for i in range(10)}\n",
    "d"
   ]
  },
  {
   "cell_type": "code",
   "execution_count": 6,
   "id": "91133b6b",
   "metadata": {},
   "outputs": [
    {
     "name": "stdout",
     "output_type": "stream",
     "text": [
      "{1, 3, 5, 7, 9}\n"
     ]
    }
   ],
   "source": [
    "# Q.6 Construct the set odd from the odd numbers in the range using a set comprehension (10).\n",
    "s = {x for x in range(10) if x%2 !=0}\n",
    "print(s)"
   ]
  },
  {
   "cell_type": "code",
   "execution_count": 7,
   "id": "f368b828",
   "metadata": {},
   "outputs": [
    {
     "name": "stdout",
     "output_type": "stream",
     "text": [
      "GOT0\n",
      "GOT1\n",
      "GOT2\n",
      "GOT3\n",
      "GOT4\n",
      "GOT5\n",
      "GOT6\n",
      "GOT7\n",
      "GOT8\n",
      "GOT9\n"
     ]
    }
   ],
   "source": [
    "# Q.7 Use a generator comprehension to return the string 'Got' and a number for the numbers in range(10). \n",
    "# Iterate through this by using a for loop.\n",
    "\n",
    "generator = ('GOT' + str(num) for num in range(10))\n",
    "for items in generator:\n",
    "    print(items)\n",
    "\n"
   ]
  },
  {
   "cell_type": "code",
   "execution_count": 8,
   "id": "0701c20a",
   "metadata": {},
   "outputs": [
    {
     "name": "stdout",
     "output_type": "stream",
     "text": [
      "['Harry', 'Ron', 'Hermione']\n"
     ]
    }
   ],
   "source": [
    "# Q.8 Define a function called good that returns the list ['Harry', 'Ron', 'Hermione']\n",
    "\n",
    "def good():\n",
    "    print(['Harry', 'Ron', 'Hermione'])\n",
    "    \n",
    "good()"
   ]
  },
  {
   "cell_type": "code",
   "execution_count": 9,
   "id": "7b137e87",
   "metadata": {},
   "outputs": [
    {
     "name": "stdout",
     "output_type": "stream",
     "text": [
      "Third number is 7\n"
     ]
    }
   ],
   "source": [
    "# Q.9 Define a generator function called get_odds that returns the odd numbers from range(10). \n",
    "# Use a for loop to find and print the third value returned.\n",
    "\n",
    "def get_odds():\n",
    "    for i in range(1,10,2):\n",
    "        yield i    \n",
    "\n",
    "a = 0\n",
    "for i in get_odds():\n",
    "    if a == 3:\n",
    "        print('Third number is', i)\n",
    "        break\n",
    "    a += 1\n",
    "        "
   ]
  },
  {
   "cell_type": "code",
   "execution_count": 10,
   "id": "acc062b7",
   "metadata": {},
   "outputs": [
    {
     "name": "stdout",
     "output_type": "stream",
     "text": [
      "{'Creature of Habit': 'A nun turns into a monster', 'Crewel Fate': 'A haunted yarn shop'}\n"
     ]
    }
   ],
   "source": [
    "# Q.11 Use zip() to make a dictionary called movies that pairs these lists: \n",
    "# titles = ['Creature of Habit', 'Crewel Fate'] and \n",
    "# plots = ['A nun turns into a monster', 'A haunted yarn shop'].\n",
    "\n",
    "titles = ['Creature of Habit', 'Crewel Fate']\n",
    "plots = ['A nun turns into a monster', 'A haunted yarn shop']\n",
    "\n",
    "movies = {}\n",
    "\n",
    "for titles, plots in zip(titles, plots):\n",
    "    movies[titles] = plots\n",
    "print(movies)\n",
    "    "
   ]
  },
  {
   "cell_type": "code",
   "execution_count": null,
   "id": "f7dff1fb",
   "metadata": {},
   "outputs": [],
   "source": []
  }
 ],
 "metadata": {
  "kernelspec": {
   "display_name": "Python 3 (ipykernel)",
   "language": "python",
   "name": "python3"
  },
  "language_info": {
   "codemirror_mode": {
    "name": "ipython",
    "version": 3
   },
   "file_extension": ".py",
   "mimetype": "text/x-python",
   "name": "python",
   "nbconvert_exporter": "python",
   "pygments_lexer": "ipython3",
   "version": "3.10.4"
  }
 },
 "nbformat": 4,
 "nbformat_minor": 5
}
